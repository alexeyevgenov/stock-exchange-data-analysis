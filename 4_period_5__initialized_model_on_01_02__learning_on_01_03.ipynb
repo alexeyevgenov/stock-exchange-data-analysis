{
 "cells": [
  {
   "cell_type": "markdown",
   "metadata": {},
   "source": [
    "# Introduction\n",
    "Here we do a short test of learned model with fixed period 5. It has been initialized and learned on 2020-01-02 day data and after that it is tested on next day data. First part contains figure of PL change during 2 days learning. To compare performance of model there is figure that has been initialized and learned on second day only in second part."
   ]
  },
  {
   "cell_type": "code",
   "execution_count": 1,
   "metadata": {},
   "outputs": [],
   "source": [
    "import pandas as pd\n",
    "import numpy as np\n",
    "from pickle import load\n",
    "import os \n",
    "os.chdir('../..')"
   ]
  },
  {
   "cell_type": "markdown",
   "metadata": {},
   "source": [
    "## 1) Initialization on 01-02. Learned on 01-03"
   ]
  },
  {
   "cell_type": "code",
   "execution_count": 2,
   "metadata": {
    "scrolled": false
   },
   "outputs": [],
   "source": [
    "similarity = 90\n",
    "height, width = 10, 5\n",
    "window = 5\n",
    "periods = range(5, 11)\n",
    "\n",
    "Qmatrix_init = load(open(f'src/SPY_patterns_scanner/output/{similarity}/{width}x{height}/Q_matrix_{window}.pkl', 'rb'))\n",
    "# Qmatrix_init['0pl_iter_0'] = 0\n",
    "\n",
    "count_cols = [col for col in Qmatrix_init.columns if 'count' in col] \n",
    "pl_cols = [col for col in Qmatrix_init.columns if 'pl' in col]\n",
    "# pl_cols[0] = '0pl_iter_0'\n",
    "\n",
    "buy_cols = [col for col in Qmatrix_init.columns if 'buy' in col]\n",
    "hold_cols = [col for col in Qmatrix_init.columns if 'hold' in col]\n",
    "sell_cols = [col for col in Qmatrix_init.columns if 'sell' in col]\n",
    "\n",
    "columns_to_show = (['date', 'prototype', 'code'] + buy_cols+hold_cols+sell_cols+count_cols+pl_cols).sort()"
   ]
  },
  {
   "cell_type": "code",
   "execution_count": 3,
   "metadata": {},
   "outputs": [
    {
     "data": {
      "image/png": "[encoded data removed]",
      "text/plain": [
       "<Figure size 432x288 with 1 Axes>"
      ]
     },
     "metadata": {
      "needs_background": "light"
     },
     "output_type": "display_data"
    }
   ],
   "source": [
    "Qmatrix_init[pl_cols].sum().plot(rot=45);"
   ]
  },
  {
   "cell_type": "code",
   "execution_count": 4,
   "metadata": {},
   "outputs": [
    {
     "data": {
      "text/html": [
       "<div>\n",
       "<style scoped>\n",
       "    .dataframe tbody tr th:only-of-type {\n",
       "        vertical-align: middle;\n",
       "    }\n",
       "\n",
       "    .dataframe tbody tr th {\n",
       "        vertical-align: top;\n",
       "    }\n",
       "\n",
       "    .dataframe thead th {\n",
       "        text-align: right;\n",
       "    }\n",
       "</style>\n",
       "<table border=\"1\" class=\"dataframe\">\n",
       "  <thead>\n",
       "    <tr style=\"text-align: right;\">\n",
       "      <th></th>\n",
       "      <th>buy</th>\n",
       "      <th>hold</th>\n",
       "      <th>sell</th>\n",
       "    </tr>\n",
       "  </thead>\n",
       "  <tbody>\n",
       "    <tr>\n",
       "      <th>0</th>\n",
       "      <td>-5.684342e-14</td>\n",
       "      <td>-0.001</td>\n",
       "      <td>11.19</td>\n",
       "    </tr>\n",
       "    <tr>\n",
       "      <th>1379</th>\n",
       "      <td>6.100000e-01</td>\n",
       "      <td>0.000</td>\n",
       "      <td>0.00</td>\n",
       "    </tr>\n",
       "    <tr>\n",
       "      <th>1444</th>\n",
       "      <td>1.200000e-01</td>\n",
       "      <td>0.000</td>\n",
       "      <td>0.00</td>\n",
       "    </tr>\n",
       "    <tr>\n",
       "      <th>1473</th>\n",
       "      <td>1.210000e+00</td>\n",
       "      <td>-0.020</td>\n",
       "      <td>-0.03</td>\n",
       "    </tr>\n",
       "    <tr>\n",
       "      <th>1504</th>\n",
       "      <td>-2.000000e-02</td>\n",
       "      <td>-0.010</td>\n",
       "      <td>1.82</td>\n",
       "    </tr>\n",
       "    <tr>\n",
       "      <th>...</th>\n",
       "      <td>...</td>\n",
       "      <td>...</td>\n",
       "      <td>...</td>\n",
       "    </tr>\n",
       "    <tr>\n",
       "      <th>54006</th>\n",
       "      <td>-1.000000e-02</td>\n",
       "      <td>-0.005</td>\n",
       "      <td>-0.01</td>\n",
       "    </tr>\n",
       "    <tr>\n",
       "      <th>54009</th>\n",
       "      <td>-5.000000e-02</td>\n",
       "      <td>-0.001</td>\n",
       "      <td>0.15</td>\n",
       "    </tr>\n",
       "    <tr>\n",
       "      <th>54012</th>\n",
       "      <td>-1.000000e-02</td>\n",
       "      <td>-0.005</td>\n",
       "      <td>-0.07</td>\n",
       "    </tr>\n",
       "    <tr>\n",
       "      <th>54015</th>\n",
       "      <td>-1.000000e-02</td>\n",
       "      <td>-0.001</td>\n",
       "      <td>0.00</td>\n",
       "    </tr>\n",
       "    <tr>\n",
       "      <th>54039</th>\n",
       "      <td>1.400000e-01</td>\n",
       "      <td>0.000</td>\n",
       "      <td>0.00</td>\n",
       "    </tr>\n",
       "  </tbody>\n",
       "</table>\n",
       "<p>196 rows × 3 columns</p>\n",
       "</div>"
      ],
      "text/plain": [
       "                buy   hold   sell\n",
       "0     -5.684342e-14 -0.001  11.19\n",
       "1379   6.100000e-01  0.000   0.00\n",
       "1444   1.200000e-01  0.000   0.00\n",
       "1473   1.210000e+00 -0.020  -0.03\n",
       "1504  -2.000000e-02 -0.010   1.82\n",
       "...             ...    ...    ...\n",
       "54006 -1.000000e-02 -0.005  -0.01\n",
       "54009 -5.000000e-02 -0.001   0.15\n",
       "54012 -1.000000e-02 -0.005  -0.07\n",
       "54015 -1.000000e-02 -0.001   0.00\n",
       "54039  1.400000e-01  0.000   0.00\n",
       "\n",
       "[196 rows x 3 columns]"
      ]
     },
     "execution_count": 4,
     "metadata": {},
     "output_type": "execute_result"
    }
   ],
   "source": [
    "Qmatrix_init[buy_cols + hold_cols + sell_cols]"
   ]
  },
  {
   "cell_type": "code",
   "execution_count": 5,
   "metadata": {},
   "outputs": [
    {
     "data": {
      "text/plain": [
       "pl_iter_0     114.65\n",
       "pl_iter_1     125.35\n",
       "pl_iter_2     125.78\n",
       "pl_iter_3     126.07\n",
       "pl_iter_4     126.60\n",
       "pl_iter_5     126.76\n",
       "pl_iter_6     126.64\n",
       "pl_iter_7     126.80\n",
       "pl_iter_8     126.87\n",
       "pl_iter_9     126.82\n",
       "pl_iter_10    126.92\n",
       "pl_iter_11    126.84\n",
       "pl_iter_12    126.91\n",
       "pl_iter_13    127.02\n",
       "pl_iter_14    127.00\n",
       "pl_iter_15    127.09\n",
       "pl_iter_16    126.89\n",
       "pl_iter_17     72.83\n",
       "pl_iter_18     79.29\n",
       "pl_iter_19     78.77\n",
       "pl_iter_20     81.63\n",
       "pl_iter_21     80.02\n",
       "dtype: float64"
      ]
     },
     "execution_count": 5,
     "metadata": {},
     "output_type": "execute_result"
    }
   ],
   "source": [
    "Qmatrix_init[pl_cols].sum()"
   ]
  },
  {
   "cell_type": "code",
   "execution_count": 6,
   "metadata": {},
   "outputs": [
    {
     "data": {
      "text/plain": [
       "127.08999999999668"
      ]
     },
     "execution_count": 6,
     "metadata": {},
     "output_type": "execute_result"
    }
   ],
   "source": [
    "Qmatrix_init[pl_cols].sum().max()"
   ]
  },
  {
   "cell_type": "markdown",
   "metadata": {},
   "source": [
    "## 2)Initialization on 01-03"
   ]
  },
  {
   "cell_type": "code",
   "execution_count": 7,
   "metadata": {},
   "outputs": [],
   "source": [
    "Qmatrix_03 = load(open(f'src/SPY_patterns_scanner/output/{similarity}/{width}x{height}/Q_matrix_{window}_03day_init.pkl', 'rb'))"
   ]
  },
  {
   "cell_type": "code",
   "execution_count": 8,
   "metadata": {},
   "outputs": [
    {
     "data": {
      "image/png": "[encoded data removed]",
      "text/plain": [
       "<Figure size 432x288 with 1 Axes>"
      ]
     },
     "metadata": {
      "needs_background": "light"
     },
     "output_type": "display_data"
    }
   ],
   "source": [
    "pl_cols_03 = [col for col in Qmatrix_03.columns if 'pl' in col]\n",
    "Qmatrix_03[pl_cols_03].sum().plot(rot=45);"
   ]
  },
  {
   "cell_type": "code",
   "execution_count": 9,
   "metadata": {},
   "outputs": [
    {
     "data": {
      "text/plain": [
       "pl_iter_0    -5.66\n",
       "pl_iter_1    84.70\n",
       "pl_iter_2    84.75\n",
       "pl_iter_3    89.38\n",
       "pl_iter_4    89.10\n",
       "pl_iter_5    89.50\n",
       "dtype: float64"
      ]
     },
     "execution_count": 9,
     "metadata": {},
     "output_type": "execute_result"
    }
   ],
   "source": [
    "Qmatrix_03[pl_cols_03].sum()"
   ]
  },
  {
   "cell_type": "markdown",
   "metadata": {},
   "source": [
    "# Conclusion\n",
    "As result model has been learned successfully. It has brought positive PL = 72.83  on first iteration. The model initialized and learned on 2020-01-02 only got top result PL = 89.50 what is 22 % greater than test results for model with fixed period 5."
   ]
  },
  {
   "cell_type": "code",
   "execution_count": null,
   "metadata": {},
   "outputs": [],
   "source": []
  }
 ],
 "metadata": {
  "kernelspec": {
   "display_name": "Python 3",
   "language": "python",
   "name": "python3"
  },
  "language_info": {
   "codemirror_mode": {
    "name": "ipython",
    "version": 3
   },
   "file_extension": ".py",
   "mimetype": "text/x-python",
   "name": "python",
   "nbconvert_exporter": "python",
   "pygments_lexer": "ipython3",
   "version": "3.8.3"
  }
 },
 "nbformat": 4,
 "nbformat_minor": 4
}
