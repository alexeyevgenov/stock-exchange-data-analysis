{
 "cells": [
  {
   "cell_type": "code",
   "execution_count": 1,
   "metadata": {},
   "outputs": [],
   "source": [
    "import pandas as pd\n",
    "import numpy as np\n",
    "from pickle import load\n",
    "import os \n",
    "os.chdir('../..')"
   ]
  },
  {
   "cell_type": "code",
   "execution_count": 2,
   "metadata": {
    "scrolled": false
   },
   "outputs": [],
   "source": [
    "similarity = 90\n",
    "height, width = 10, 5\n",
    "window = 5\n",
    "periods = range(5, 11)\n",
    "\n",
    "# Qmatrix_init = load(open(f'src/SPY_patterns_scanner/output/{similarity}/{width}x{height}/Q_matrix_win{periods[0]}_{periods[-1]}_filter_count.pkl', 'rb'))\n",
    "# Qmatrix_init = load(open(f'src/SPY_patterns_scanner/output/{similarity}/{width}x{height}/Q_matrix_win{periods[0]}_{periods[-1]}.pkl', 'rb'))\n",
    "# Qmatrix_init = load(open(f'src/SPY_patterns_scanner/output/{similarity}/{width}x{height}/Q_matrix_{window}.pkl', 'rb'))\n",
    "# Qmatrix_init = load(open(f'src/SPY_patterns_scanner/output/{similarity}/{width}x{height}/Q_matrix_win{periods[0]}_{periods[-1]}_03day_init.pkl', 'rb'))\n",
    "# Qmatrix_init = load(open(f'src/SPY_patterns_scanner/output/{similarity}/{width}x{height}/Q_matrix_{window}_03day_init.pkl', 'rb'))\n",
    "Qmatrix_init = load(open(f'src/SPY_patterns_scanner/output/90/5x10/cross_valid/Q_matrix_win5_10_cv.pkl', 'rb'))\n",
    "# Qmatrix_init = load(open(f'src/SPY_patterns_scanner/output/90/5x10/initialized_matrices/Q_matrix_win5_10.pkl', 'rb'))\n",
    "\n",
    "count_cols = [col for col in Qmatrix_init.columns if 'count' in col] \n",
    "pl_cols = [col for col in Qmatrix_init.columns if 'pl' in col]\n",
    "\n",
    "buy_cols = [col for col in Qmatrix_init.columns if 'buy' in col]\n",
    "hold_cols = [col for col in Qmatrix_init.columns if 'hold' in col]\n",
    "sell_cols = [col for col in Qmatrix_init.columns if 'sell' in col]\n",
    "\n",
    "columns_to_show = (['date', 'prototype', 'code'] + buy_cols+hold_cols+sell_cols+count_cols+pl_cols).sort()"
   ]
  },
  {
   "cell_type": "code",
   "execution_count": 3,
   "metadata": {},
   "outputs": [
    {
     "data": {
      "image/png": "[encoded data removed]",
      "text/plain": [
       "<Figure size 432x288 with 1 Axes>"
      ]
     },
     "metadata": {
      "needs_background": "light"
     },
     "output_type": "display_data"
    }
   ],
   "source": [
    "Qmatrix_init[pl_cols].sum().plot(rot=45);"
   ]
  },
  {
   "cell_type": "code",
   "execution_count": 10,
   "metadata": {},
   "outputs": [
    {
     "data": {
      "image/png": "[encoded data removed]",
      "text/plain": [
       "<Figure size 432x288 with 1 Axes>"
      ]
     },
     "metadata": {
      "needs_background": "light"
     },
     "output_type": "display_data"
    }
   ],
   "source": [
    "pl_cols_test = pl_cols[3:]\n",
    "Qmatrix_init[pl_cols_test].sum().plot.bar(x=pl_cols_test, rot=45);"
   ]
  },
  {
   "cell_type": "code",
   "execution_count": 5,
   "metadata": {},
   "outputs": [
    {
     "data": {
      "text/html": [
       "<div>\n",
       "<style scoped>\n",
       "    .dataframe tbody tr th:only-of-type {\n",
       "        vertical-align: middle;\n",
       "    }\n",
       "\n",
       "    .dataframe tbody tr th {\n",
       "        vertical-align: top;\n",
       "    }\n",
       "\n",
       "    .dataframe thead th {\n",
       "        text-align: right;\n",
       "    }\n",
       "</style>\n",
       "<table border=\"1\" class=\"dataframe\">\n",
       "  <thead>\n",
       "    <tr style=\"text-align: right;\">\n",
       "      <th></th>\n",
       "      <th>buy_5</th>\n",
       "      <th>buy_6</th>\n",
       "      <th>buy_7</th>\n",
       "      <th>buy_8</th>\n",
       "      <th>buy_9</th>\n",
       "      <th>buy_10</th>\n",
       "      <th>hold_5</th>\n",
       "      <th>hold_6</th>\n",
       "      <th>hold_7</th>\n",
       "      <th>hold_8</th>\n",
       "      <th>hold_9</th>\n",
       "      <th>hold_10</th>\n",
       "      <th>sell_5</th>\n",
       "      <th>sell_6</th>\n",
       "      <th>sell_7</th>\n",
       "      <th>sell_8</th>\n",
       "      <th>sell_9</th>\n",
       "      <th>sell_10</th>\n",
       "    </tr>\n",
       "  </thead>\n",
       "  <tbody>\n",
       "    <tr>\n",
       "      <th>1531</th>\n",
       "      <td>264.70</td>\n",
       "      <td>2.09</td>\n",
       "      <td>3.74</td>\n",
       "      <td>6.08</td>\n",
       "      <td>3.25</td>\n",
       "      <td>1.88</td>\n",
       "      <td>0.000</td>\n",
       "      <td>0.000</td>\n",
       "      <td>0.000</td>\n",
       "      <td>0.000</td>\n",
       "      <td>0.000</td>\n",
       "      <td>0.000</td>\n",
       "      <td>-4.53</td>\n",
       "      <td>-2.87</td>\n",
       "      <td>-6.860000e+00</td>\n",
       "      <td>-1.57</td>\n",
       "      <td>-3.01</td>\n",
       "      <td>-4.12</td>\n",
       "    </tr>\n",
       "    <tr>\n",
       "      <th>20874</th>\n",
       "      <td>0.56</td>\n",
       "      <td>0.36</td>\n",
       "      <td>0.43</td>\n",
       "      <td>0.87</td>\n",
       "      <td>0.12</td>\n",
       "      <td>65.54</td>\n",
       "      <td>0.000</td>\n",
       "      <td>0.000</td>\n",
       "      <td>0.000</td>\n",
       "      <td>0.000</td>\n",
       "      <td>0.000</td>\n",
       "      <td>0.000</td>\n",
       "      <td>-0.76</td>\n",
       "      <td>-0.69</td>\n",
       "      <td>-1.390000e+00</td>\n",
       "      <td>0.57</td>\n",
       "      <td>-0.99</td>\n",
       "      <td>-0.76</td>\n",
       "    </tr>\n",
       "    <tr>\n",
       "      <th>25063</th>\n",
       "      <td>-0.12</td>\n",
       "      <td>-0.02</td>\n",
       "      <td>0.56</td>\n",
       "      <td>-3.90</td>\n",
       "      <td>-0.01</td>\n",
       "      <td>-0.12</td>\n",
       "      <td>-0.001</td>\n",
       "      <td>-0.001</td>\n",
       "      <td>-0.001</td>\n",
       "      <td>-0.001</td>\n",
       "      <td>-0.001</td>\n",
       "      <td>-0.001</td>\n",
       "      <td>-0.03</td>\n",
       "      <td>-0.04</td>\n",
       "      <td>-5.684342e-14</td>\n",
       "      <td>-0.01</td>\n",
       "      <td>-0.14</td>\n",
       "      <td>-0.02</td>\n",
       "    </tr>\n",
       "    <tr>\n",
       "      <th>28055</th>\n",
       "      <td>-4.05</td>\n",
       "      <td>-2.24</td>\n",
       "      <td>-2.98</td>\n",
       "      <td>-1.54</td>\n",
       "      <td>-1.23</td>\n",
       "      <td>-1.69</td>\n",
       "      <td>0.000</td>\n",
       "      <td>0.000</td>\n",
       "      <td>0.000</td>\n",
       "      <td>0.000</td>\n",
       "      <td>0.000</td>\n",
       "      <td>0.000</td>\n",
       "      <td>2.42</td>\n",
       "      <td>2.23</td>\n",
       "      <td>2.380000e+00</td>\n",
       "      <td>1.74</td>\n",
       "      <td>4.96</td>\n",
       "      <td>224.68</td>\n",
       "    </tr>\n",
       "    <tr>\n",
       "      <th>38100</th>\n",
       "      <td>0.08</td>\n",
       "      <td>0.03</td>\n",
       "      <td>-0.16</td>\n",
       "      <td>7.74</td>\n",
       "      <td>0.00</td>\n",
       "      <td>-0.01</td>\n",
       "      <td>0.000</td>\n",
       "      <td>0.000</td>\n",
       "      <td>0.000</td>\n",
       "      <td>0.000</td>\n",
       "      <td>0.000</td>\n",
       "      <td>0.000</td>\n",
       "      <td>-0.12</td>\n",
       "      <td>-0.11</td>\n",
       "      <td>2.000000e-02</td>\n",
       "      <td>-0.05</td>\n",
       "      <td>-0.10</td>\n",
       "      <td>-0.05</td>\n",
       "    </tr>\n",
       "    <tr>\n",
       "      <th>38518</th>\n",
       "      <td>-0.28</td>\n",
       "      <td>0.02</td>\n",
       "      <td>-0.08</td>\n",
       "      <td>-0.07</td>\n",
       "      <td>0.05</td>\n",
       "      <td>0.05</td>\n",
       "      <td>0.000</td>\n",
       "      <td>0.000</td>\n",
       "      <td>0.000</td>\n",
       "      <td>0.000</td>\n",
       "      <td>0.000</td>\n",
       "      <td>0.000</td>\n",
       "      <td>0.00</td>\n",
       "      <td>5.20</td>\n",
       "      <td>-2.000000e-02</td>\n",
       "      <td>-0.04</td>\n",
       "      <td>0.06</td>\n",
       "      <td>-0.05</td>\n",
       "    </tr>\n",
       "    <tr>\n",
       "      <th>39874</th>\n",
       "      <td>0.11</td>\n",
       "      <td>-0.04</td>\n",
       "      <td>8.21</td>\n",
       "      <td>0.08</td>\n",
       "      <td>0.03</td>\n",
       "      <td>0.03</td>\n",
       "      <td>0.000</td>\n",
       "      <td>0.000</td>\n",
       "      <td>0.000</td>\n",
       "      <td>0.000</td>\n",
       "      <td>0.000</td>\n",
       "      <td>0.000</td>\n",
       "      <td>-0.15</td>\n",
       "      <td>-0.08</td>\n",
       "      <td>-1.300000e-01</td>\n",
       "      <td>0.02</td>\n",
       "      <td>-0.01</td>\n",
       "      <td>-0.19</td>\n",
       "    </tr>\n",
       "    <tr>\n",
       "      <th>41722</th>\n",
       "      <td>-0.18</td>\n",
       "      <td>-0.27</td>\n",
       "      <td>-0.04</td>\n",
       "      <td>-0.15</td>\n",
       "      <td>-0.23</td>\n",
       "      <td>-0.14</td>\n",
       "      <td>0.000</td>\n",
       "      <td>0.000</td>\n",
       "      <td>0.000</td>\n",
       "      <td>0.000</td>\n",
       "      <td>0.000</td>\n",
       "      <td>0.000</td>\n",
       "      <td>10.91</td>\n",
       "      <td>-0.04</td>\n",
       "      <td>2.200000e-01</td>\n",
       "      <td>0.11</td>\n",
       "      <td>0.16</td>\n",
       "      <td>0.28</td>\n",
       "    </tr>\n",
       "    <tr>\n",
       "      <th>46321</th>\n",
       "      <td>12.11</td>\n",
       "      <td>0.01</td>\n",
       "      <td>0.03</td>\n",
       "      <td>0.20</td>\n",
       "      <td>0.15</td>\n",
       "      <td>0.08</td>\n",
       "      <td>0.000</td>\n",
       "      <td>0.000</td>\n",
       "      <td>0.000</td>\n",
       "      <td>0.000</td>\n",
       "      <td>0.000</td>\n",
       "      <td>0.000</td>\n",
       "      <td>-0.19</td>\n",
       "      <td>-0.12</td>\n",
       "      <td>-1.800000e-01</td>\n",
       "      <td>-0.08</td>\n",
       "      <td>-0.26</td>\n",
       "      <td>-0.32</td>\n",
       "    </tr>\n",
       "    <tr>\n",
       "      <th>46951</th>\n",
       "      <td>-0.21</td>\n",
       "      <td>-0.24</td>\n",
       "      <td>-0.22</td>\n",
       "      <td>-0.25</td>\n",
       "      <td>-0.22</td>\n",
       "      <td>-0.22</td>\n",
       "      <td>-0.211</td>\n",
       "      <td>-0.211</td>\n",
       "      <td>-0.211</td>\n",
       "      <td>-0.211</td>\n",
       "      <td>-0.211</td>\n",
       "      <td>-0.211</td>\n",
       "      <td>0.06</td>\n",
       "      <td>-0.46</td>\n",
       "      <td>-2.200000e-01</td>\n",
       "      <td>-0.49</td>\n",
       "      <td>-0.76</td>\n",
       "      <td>-1.55</td>\n",
       "    </tr>\n",
       "    <tr>\n",
       "      <th>47987</th>\n",
       "      <td>-0.03</td>\n",
       "      <td>-0.15</td>\n",
       "      <td>0.01</td>\n",
       "      <td>-0.02</td>\n",
       "      <td>-0.04</td>\n",
       "      <td>-0.03</td>\n",
       "      <td>0.000</td>\n",
       "      <td>0.000</td>\n",
       "      <td>0.000</td>\n",
       "      <td>0.000</td>\n",
       "      <td>0.000</td>\n",
       "      <td>0.000</td>\n",
       "      <td>1.36</td>\n",
       "      <td>0.05</td>\n",
       "      <td>-5.684342e-14</td>\n",
       "      <td>0.04</td>\n",
       "      <td>0.00</td>\n",
       "      <td>0.00</td>\n",
       "    </tr>\n",
       "    <tr>\n",
       "      <th>50884</th>\n",
       "      <td>-0.11</td>\n",
       "      <td>-0.05</td>\n",
       "      <td>-0.20</td>\n",
       "      <td>0.00</td>\n",
       "      <td>-0.04</td>\n",
       "      <td>-0.14</td>\n",
       "      <td>0.000</td>\n",
       "      <td>0.000</td>\n",
       "      <td>0.000</td>\n",
       "      <td>0.000</td>\n",
       "      <td>0.000</td>\n",
       "      <td>0.000</td>\n",
       "      <td>-0.07</td>\n",
       "      <td>4.70</td>\n",
       "      <td>-7.000000e-02</td>\n",
       "      <td>-0.03</td>\n",
       "      <td>0.09</td>\n",
       "      <td>0.02</td>\n",
       "    </tr>\n",
       "    <tr>\n",
       "      <th>51068</th>\n",
       "      <td>-0.06</td>\n",
       "      <td>-0.06</td>\n",
       "      <td>4.11</td>\n",
       "      <td>-1.08</td>\n",
       "      <td>-0.09</td>\n",
       "      <td>-0.15</td>\n",
       "      <td>-0.060</td>\n",
       "      <td>-0.060</td>\n",
       "      <td>-0.060</td>\n",
       "      <td>-0.060</td>\n",
       "      <td>-0.060</td>\n",
       "      <td>-0.060</td>\n",
       "      <td>-0.33</td>\n",
       "      <td>-0.06</td>\n",
       "      <td>-7.000000e-02</td>\n",
       "      <td>-0.08</td>\n",
       "      <td>-0.09</td>\n",
       "      <td>-0.08</td>\n",
       "    </tr>\n",
       "    <tr>\n",
       "      <th>51680</th>\n",
       "      <td>-0.05</td>\n",
       "      <td>0.05</td>\n",
       "      <td>0.08</td>\n",
       "      <td>10.91</td>\n",
       "      <td>0.04</td>\n",
       "      <td>0.13</td>\n",
       "      <td>0.000</td>\n",
       "      <td>0.000</td>\n",
       "      <td>0.000</td>\n",
       "      <td>0.000</td>\n",
       "      <td>0.000</td>\n",
       "      <td>0.000</td>\n",
       "      <td>-0.08</td>\n",
       "      <td>-0.11</td>\n",
       "      <td>-5.000000e-02</td>\n",
       "      <td>-0.03</td>\n",
       "      <td>-0.01</td>\n",
       "      <td>-0.13</td>\n",
       "    </tr>\n",
       "  </tbody>\n",
       "</table>\n",
       "</div>"
      ],
      "text/plain": [
       "        buy_5  buy_6  buy_7  buy_8  buy_9  buy_10  hold_5  hold_6  hold_7  \\\n",
       "1531   264.70   2.09   3.74   6.08   3.25    1.88   0.000   0.000   0.000   \n",
       "20874    0.56   0.36   0.43   0.87   0.12   65.54   0.000   0.000   0.000   \n",
       "25063   -0.12  -0.02   0.56  -3.90  -0.01   -0.12  -0.001  -0.001  -0.001   \n",
       "28055   -4.05  -2.24  -2.98  -1.54  -1.23   -1.69   0.000   0.000   0.000   \n",
       "38100    0.08   0.03  -0.16   7.74   0.00   -0.01   0.000   0.000   0.000   \n",
       "38518   -0.28   0.02  -0.08  -0.07   0.05    0.05   0.000   0.000   0.000   \n",
       "39874    0.11  -0.04   8.21   0.08   0.03    0.03   0.000   0.000   0.000   \n",
       "41722   -0.18  -0.27  -0.04  -0.15  -0.23   -0.14   0.000   0.000   0.000   \n",
       "46321   12.11   0.01   0.03   0.20   0.15    0.08   0.000   0.000   0.000   \n",
       "46951   -0.21  -0.24  -0.22  -0.25  -0.22   -0.22  -0.211  -0.211  -0.211   \n",
       "47987   -0.03  -0.15   0.01  -0.02  -0.04   -0.03   0.000   0.000   0.000   \n",
       "50884   -0.11  -0.05  -0.20   0.00  -0.04   -0.14   0.000   0.000   0.000   \n",
       "51068   -0.06  -0.06   4.11  -1.08  -0.09   -0.15  -0.060  -0.060  -0.060   \n",
       "51680   -0.05   0.05   0.08  10.91   0.04    0.13   0.000   0.000   0.000   \n",
       "\n",
       "       hold_8  hold_9  hold_10  sell_5  sell_6        sell_7  sell_8  sell_9  \\\n",
       "1531    0.000   0.000    0.000   -4.53   -2.87 -6.860000e+00   -1.57   -3.01   \n",
       "20874   0.000   0.000    0.000   -0.76   -0.69 -1.390000e+00    0.57   -0.99   \n",
       "25063  -0.001  -0.001   -0.001   -0.03   -0.04 -5.684342e-14   -0.01   -0.14   \n",
       "28055   0.000   0.000    0.000    2.42    2.23  2.380000e+00    1.74    4.96   \n",
       "38100   0.000   0.000    0.000   -0.12   -0.11  2.000000e-02   -0.05   -0.10   \n",
       "38518   0.000   0.000    0.000    0.00    5.20 -2.000000e-02   -0.04    0.06   \n",
       "39874   0.000   0.000    0.000   -0.15   -0.08 -1.300000e-01    0.02   -0.01   \n",
       "41722   0.000   0.000    0.000   10.91   -0.04  2.200000e-01    0.11    0.16   \n",
       "46321   0.000   0.000    0.000   -0.19   -0.12 -1.800000e-01   -0.08   -0.26   \n",
       "46951  -0.211  -0.211   -0.211    0.06   -0.46 -2.200000e-01   -0.49   -0.76   \n",
       "47987   0.000   0.000    0.000    1.36    0.05 -5.684342e-14    0.04    0.00   \n",
       "50884   0.000   0.000    0.000   -0.07    4.70 -7.000000e-02   -0.03    0.09   \n",
       "51068  -0.060  -0.060   -0.060   -0.33   -0.06 -7.000000e-02   -0.08   -0.09   \n",
       "51680   0.000   0.000    0.000   -0.08   -0.11 -5.000000e-02   -0.03   -0.01   \n",
       "\n",
       "       sell_10  \n",
       "1531     -4.12  \n",
       "20874    -0.76  \n",
       "25063    -0.02  \n",
       "28055   224.68  \n",
       "38100    -0.05  \n",
       "38518    -0.05  \n",
       "39874    -0.19  \n",
       "41722     0.28  \n",
       "46321    -0.32  \n",
       "46951    -1.55  \n",
       "47987     0.00  \n",
       "50884     0.02  \n",
       "51068    -0.08  \n",
       "51680    -0.13  "
      ]
     },
     "execution_count": 5,
     "metadata": {},
     "output_type": "execute_result"
    }
   ],
   "source": [
    "Qmatrix_init[buy_cols + hold_cols + sell_cols]"
   ]
  },
  {
   "cell_type": "code",
   "execution_count": 6,
   "metadata": {},
   "outputs": [
    {
     "data": {
      "text/plain": [
       "pl_iter_0      9.83\n",
       "pl_iter_1    113.52\n",
       "pl_iter_2    112.99\n",
       "pl_iter_3     75.47\n",
       "pl_iter_4     67.27\n",
       "pl_iter_5     62.17\n",
       "pl_iter_6     90.42\n",
       "pl_iter_7     67.07\n",
       "dtype: float64"
      ]
     },
     "execution_count": 6,
     "metadata": {},
     "output_type": "execute_result"
    }
   ],
   "source": [
    "Qmatrix_init[pl_cols].sum()"
   ]
  },
  {
   "cell_type": "code",
   "execution_count": 7,
   "metadata": {},
   "outputs": [
    {
     "data": {
      "text/plain": [
       "113.52000000000129"
      ]
     },
     "execution_count": 7,
     "metadata": {},
     "output_type": "execute_result"
    }
   ],
   "source": [
    "Qmatrix_init[pl_cols].sum().max()"
   ]
  },
  {
   "cell_type": "code",
   "execution_count": 13,
   "metadata": {},
   "outputs": [
    {
     "data": {
      "text/plain": [
       "97.92999999999773"
      ]
     },
     "execution_count": 13,
     "metadata": {},
     "output_type": "execute_result"
    }
   ],
   "source": [
    "Qmatrix_init_1 = load(open(f'src/SPY_patterns_scanner/output/90/5x10/initialized_matrices/Q_matrix_win5_10_1.pkl', 'rb'))\n",
    "pl_cols_1 = [col for col in Qmatrix_init_1.columns if 'pl' in col]\n",
    "Qmatrix_init_1['pl_iter_2'].sum()"
   ]
  },
  {
   "cell_type": "code",
   "execution_count": 18,
   "metadata": {},
   "outputs": [],
   "source": [
    "pl = []\n",
    "for i in range(1, 6):\n",
    "    Qmatrix_init = load(open(f'src/SPY_patterns_scanner/output/90/5x10/initialized_matrices/Q_matrix_win5_10_{i}.pkl', 'rb'))\n",
    "    pl.append(Qmatrix_init['pl_iter_2'].sum())"
   ]
  },
  {
   "cell_type": "code",
   "execution_count": 19,
   "metadata": {},
   "outputs": [
    {
     "data": {
      "image/png": "[encoded data removed]",
      "text/plain": [
       "<Figure size 432x288 with 1 Axes>"
      ]
     },
     "metadata": {
      "needs_background": "light"
     },
     "output_type": "display_data"
    }
   ],
   "source": [
    "pd.Series(pl).plot.bar(x=pl_cols_test, rot=45);"
   ]
  },
  {
   "cell_type": "code",
   "execution_count": 21,
   "metadata": {},
   "outputs": [
    {
     "data": {
      "text/plain": [
       "['pl_iter_3', 'pl_iter_4', 'pl_iter_5', 'pl_iter_6', 'pl_iter_7']"
      ]
     },
     "execution_count": 21,
     "metadata": {},
     "output_type": "execute_result"
    }
   ],
   "source": [
    "pl_cols_test"
   ]
  },
  {
   "cell_type": "code",
   "execution_count": null,
   "metadata": {},
   "outputs": [],
   "source": []
  }
 ],
 "metadata": {
  "kernelspec": {
   "display_name": "Python 3",
   "language": "python",
   "name": "python3"
  },
  "language_info": {
   "codemirror_mode": {
    "name": "ipython",
    "version": 3
   },
   "file_extension": ".py",
   "mimetype": "text/x-python",
   "name": "python",
   "nbconvert_exporter": "python",
   "pygments_lexer": "ipython3",
   "version": "3.8.3"
  }
 },
 "nbformat": 4,
 "nbformat_minor": 4
}
