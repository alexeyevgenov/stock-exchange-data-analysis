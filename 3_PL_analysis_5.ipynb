{
 "cells": [
  {
   "cell_type": "markdown",
   "metadata": {},
   "source": [
    "# Introduction\n",
    "In this study, we will use Reinforcement Learning methods to determine the state of patterns. We will take three states: \"buy\", \"nothing\", \"sell\". We apply a \"reward\" if the pattern guessed the price change or a \"penalty\" if it didn't. We will use the same patterns that were found during the one day data. To evaluate the efficiency, we will calculate PL."
   ]
  },
  {
   "cell_type": "code",
   "execution_count": 1,
   "metadata": {},
   "outputs": [],
   "source": [
    "import pandas as pd\n",
    "import numpy as np\n",
    "from pickle import load\n",
    "import matplotlib.pyplot as plt\n",
    "import os \n",
    "os.chdir('../..')"
   ]
  },
  {
   "cell_type": "code",
   "execution_count": 2,
   "metadata": {
    "scrolled": false
   },
   "outputs": [
    {
     "data": {
      "text/html": [
       "<div>\n",
       "<style scoped>\n",
       "    .dataframe tbody tr th:only-of-type {\n",
       "        vertical-align: middle;\n",
       "    }\n",
       "\n",
       "    .dataframe tbody tr th {\n",
       "        vertical-align: top;\n",
       "    }\n",
       "\n",
       "    .dataframe thead th {\n",
       "        text-align: right;\n",
       "    }\n",
       "</style>\n",
       "<table border=\"1\" class=\"dataframe\">\n",
       "  <thead>\n",
       "    <tr style=\"text-align: right;\">\n",
       "      <th></th>\n",
       "      <th>date</th>\n",
       "      <th>prototype</th>\n",
       "      <th>code</th>\n",
       "      <th>buy</th>\n",
       "      <th>hold</th>\n",
       "      <th>sell</th>\n",
       "      <th>pl_iter_0</th>\n",
       "      <th>pl_iter_1</th>\n",
       "      <th>pl_iter_2</th>\n",
       "      <th>pl_iter_3</th>\n",
       "      <th>...</th>\n",
       "      <th>pl_iter_7</th>\n",
       "      <th>pl_iter_8</th>\n",
       "      <th>pl_iter_9</th>\n",
       "      <th>pl_iter_10</th>\n",
       "      <th>pl_iter_11</th>\n",
       "      <th>pl_iter_12</th>\n",
       "      <th>pl_iter_13</th>\n",
       "      <th>pl_iter_14</th>\n",
       "      <th>pl_iter_15</th>\n",
       "      <th>pl_iter_16</th>\n",
       "    </tr>\n",
       "  </thead>\n",
       "  <tbody>\n",
       "    <tr>\n",
       "      <th>0</th>\n",
       "      <td>2020-01-02 09:30:00.002</td>\n",
       "      <td>0</td>\n",
       "      <td>[0, 2, 0, 2, 0]</td>\n",
       "      <td>-5.684342e-14</td>\n",
       "      <td>-0.001</td>\n",
       "      <td>7.64</td>\n",
       "      <td>0.44</td>\n",
       "      <td>0.45</td>\n",
       "      <td>0.45</td>\n",
       "      <td>0.45</td>\n",
       "      <td>...</td>\n",
       "      <td>0.45</td>\n",
       "      <td>0.45</td>\n",
       "      <td>0.45</td>\n",
       "      <td>0.45</td>\n",
       "      <td>0.45</td>\n",
       "      <td>0.45</td>\n",
       "      <td>0.45</td>\n",
       "      <td>0.45</td>\n",
       "      <td>0.45</td>\n",
       "      <td>0.45</td>\n",
       "    </tr>\n",
       "    <tr>\n",
       "      <th>1379</th>\n",
       "      <td>2020-01-02 09:30:00.002</td>\n",
       "      <td>1</td>\n",
       "      <td>[2, 0, 2, 0, 3]</td>\n",
       "      <td>5.100000e-01</td>\n",
       "      <td>0.000</td>\n",
       "      <td>0.00</td>\n",
       "      <td>0.03</td>\n",
       "      <td>0.03</td>\n",
       "      <td>0.03</td>\n",
       "      <td>0.03</td>\n",
       "      <td>...</td>\n",
       "      <td>0.03</td>\n",
       "      <td>0.03</td>\n",
       "      <td>0.03</td>\n",
       "      <td>0.03</td>\n",
       "      <td>0.03</td>\n",
       "      <td>0.03</td>\n",
       "      <td>0.03</td>\n",
       "      <td>0.03</td>\n",
       "      <td>0.03</td>\n",
       "      <td>0.03</td>\n",
       "    </tr>\n",
       "    <tr>\n",
       "      <th>1444</th>\n",
       "      <td>2020-01-02 09:30:00.002</td>\n",
       "      <td>2</td>\n",
       "      <td>[0, 2, 0, 3, 2]</td>\n",
       "      <td>1.700000e-01</td>\n",
       "      <td>0.000</td>\n",
       "      <td>0.00</td>\n",
       "      <td>0.01</td>\n",
       "      <td>0.01</td>\n",
       "      <td>0.01</td>\n",
       "      <td>0.01</td>\n",
       "      <td>...</td>\n",
       "      <td>0.01</td>\n",
       "      <td>0.01</td>\n",
       "      <td>0.01</td>\n",
       "      <td>0.01</td>\n",
       "      <td>0.01</td>\n",
       "      <td>0.01</td>\n",
       "      <td>0.01</td>\n",
       "      <td>0.01</td>\n",
       "      <td>0.01</td>\n",
       "      <td>0.01</td>\n",
       "    </tr>\n",
       "    <tr>\n",
       "      <th>1473</th>\n",
       "      <td>2020-01-02 09:30:00.002</td>\n",
       "      <td>3</td>\n",
       "      <td>[2, 0, 3, 2, 3]</td>\n",
       "      <td>1.000000e-02</td>\n",
       "      <td>-0.020</td>\n",
       "      <td>-0.03</td>\n",
       "      <td>-0.03</td>\n",
       "      <td>-0.02</td>\n",
       "      <td>0.00</td>\n",
       "      <td>0.03</td>\n",
       "      <td>...</td>\n",
       "      <td>0.00</td>\n",
       "      <td>0.00</td>\n",
       "      <td>0.00</td>\n",
       "      <td>0.00</td>\n",
       "      <td>0.00</td>\n",
       "      <td>0.00</td>\n",
       "      <td>0.00</td>\n",
       "      <td>0.00</td>\n",
       "      <td>0.00</td>\n",
       "      <td>0.00</td>\n",
       "    </tr>\n",
       "    <tr>\n",
       "      <th>1504</th>\n",
       "      <td>2020-01-02 09:30:00.002</td>\n",
       "      <td>4</td>\n",
       "      <td>[0, 3, 2, 3, 2]</td>\n",
       "      <td>-2.000000e-02</td>\n",
       "      <td>-0.010</td>\n",
       "      <td>0.97</td>\n",
       "      <td>-0.01</td>\n",
       "      <td>0.06</td>\n",
       "      <td>0.06</td>\n",
       "      <td>0.06</td>\n",
       "      <td>...</td>\n",
       "      <td>0.06</td>\n",
       "      <td>0.06</td>\n",
       "      <td>0.06</td>\n",
       "      <td>0.06</td>\n",
       "      <td>0.06</td>\n",
       "      <td>0.06</td>\n",
       "      <td>0.06</td>\n",
       "      <td>0.06</td>\n",
       "      <td>0.06</td>\n",
       "      <td>0.06</td>\n",
       "    </tr>\n",
       "  </tbody>\n",
       "</table>\n",
       "<p>5 rows × 23 columns</p>\n",
       "</div>"
      ],
      "text/plain": [
       "                        date  prototype             code           buy   hold  \\\n",
       "0    2020-01-02 09:30:00.002          0  [0, 2, 0, 2, 0] -5.684342e-14 -0.001   \n",
       "1379 2020-01-02 09:30:00.002          1  [2, 0, 2, 0, 3]  5.100000e-01  0.000   \n",
       "1444 2020-01-02 09:30:00.002          2  [0, 2, 0, 3, 2]  1.700000e-01  0.000   \n",
       "1473 2020-01-02 09:30:00.002          3  [2, 0, 3, 2, 3]  1.000000e-02 -0.020   \n",
       "1504 2020-01-02 09:30:00.002          4  [0, 3, 2, 3, 2] -2.000000e-02 -0.010   \n",
       "\n",
       "      sell  pl_iter_0  pl_iter_1  pl_iter_2  pl_iter_3  ...  pl_iter_7  \\\n",
       "0     7.64       0.44       0.45       0.45       0.45  ...       0.45   \n",
       "1379  0.00       0.03       0.03       0.03       0.03  ...       0.03   \n",
       "1444  0.00       0.01       0.01       0.01       0.01  ...       0.01   \n",
       "1473 -0.03      -0.03      -0.02       0.00       0.03  ...       0.00   \n",
       "1504  0.97      -0.01       0.06       0.06       0.06  ...       0.06   \n",
       "\n",
       "      pl_iter_8  pl_iter_9  pl_iter_10  pl_iter_11  pl_iter_12  pl_iter_13  \\\n",
       "0          0.45       0.45        0.45        0.45        0.45        0.45   \n",
       "1379       0.03       0.03        0.03        0.03        0.03        0.03   \n",
       "1444       0.01       0.01        0.01        0.01        0.01        0.01   \n",
       "1473       0.00       0.00        0.00        0.00        0.00        0.00   \n",
       "1504       0.06       0.06        0.06        0.06        0.06        0.06   \n",
       "\n",
       "      pl_iter_14  pl_iter_15  pl_iter_16  \n",
       "0           0.45        0.45        0.45  \n",
       "1379        0.03        0.03        0.03  \n",
       "1444        0.01        0.01        0.01  \n",
       "1473        0.00        0.00        0.00  \n",
       "1504        0.06        0.06        0.06  \n",
       "\n",
       "[5 rows x 23 columns]"
      ]
     },
     "execution_count": 2,
     "metadata": {},
     "output_type": "execute_result"
    }
   ],
   "source": [
    "similarity = 90\n",
    "height, width = 10, 5\n",
    "window = 5\n",
    "\n",
    "Qmatrix_init = load(open(f'src/SPY_patterns_scanner/output/{similarity}/{width}x{height}/Q_matrix_{window}.pkl', 'rb'))\n",
    "count_cols = [col for col in Qmatrix_init.columns if 'count' in col] \n",
    "pl_cols = [col for col in Qmatrix_init.columns if 'pl' in col]\n",
    "\n",
    "buy_cols = [col for col in Qmatrix_init.columns if 'buy' in col]\n",
    "hold_cols = [col for col in Qmatrix_init.columns if 'hold' in col]\n",
    "sell_cols = [col for col in Qmatrix_init.columns if 'sell' in col]\n",
    "\n",
    "columns_to_show = (['date', 'prototype', 'code']+buy_cols+hold_cols+sell_cols+count_cols+pl_cols).sort()\n",
    "\n",
    "Qmatrix = Qmatrix_init[['date', 'prototype', 'code', 'buy', 'hold', 'sell']+pl_cols]\n",
    "Qmatrix.head()"
   ]
  },
  {
   "cell_type": "markdown",
   "metadata": {},
   "source": [
    "### Visualization of learning process. Profit maximization"
   ]
  },
  {
   "cell_type": "code",
   "execution_count": 3,
   "metadata": {},
   "outputs": [
    {
     "data": {
      "image/png": "[encoded data removed]",
      "text/plain": [
       "<Figure size 432x288 with 1 Axes>"
      ]
     },
     "metadata": {
      "needs_background": "light"
     },
     "output_type": "display_data"
    }
   ],
   "source": [
    "Qmatrix[pl_cols].sum().plot(rot=45);"
   ]
  },
  {
   "cell_type": "markdown",
   "metadata": {},
   "source": [
    "### Max PL"
   ]
  },
  {
   "cell_type": "code",
   "execution_count": 4,
   "metadata": {},
   "outputs": [
    {
     "data": {
      "text/plain": [
       "127.08999999999668"
      ]
     },
     "execution_count": 4,
     "metadata": {},
     "output_type": "execute_result"
    }
   ],
   "source": [
    "# max PL\n",
    "Qmatrix[pl_cols].sum().max()"
   ]
  },
  {
   "cell_type": "code",
   "execution_count": 20,
   "metadata": {},
   "outputs": [
    {
     "data": {
      "text/plain": [
       "['count_iter_0',\n",
       " 'count_iter_1',\n",
       " 'count_iter_2',\n",
       " 'count_iter_3',\n",
       " 'count_iter_4',\n",
       " 'count_iter_5',\n",
       " 'count_iter_6',\n",
       " 'count_iter_7',\n",
       " 'count_iter_8',\n",
       " 'count_iter_9',\n",
       " 'count_iter_10',\n",
       " 'count_iter_11',\n",
       " 'count_iter_12',\n",
       " 'count_iter_13',\n",
       " 'count_iter_14',\n",
       " 'count_iter_15',\n",
       " 'count_iter_16']"
      ]
     },
     "execution_count": 20,
     "metadata": {},
     "output_type": "execute_result"
    }
   ],
   "source": [
    "count_cols"
   ]
  },
  {
   "cell_type": "code",
   "execution_count": 5,
   "metadata": {},
   "outputs": [
    {
     "data": {
      "text/plain": [
       "pl_iter_0     114.65\n",
       "pl_iter_1     125.35\n",
       "pl_iter_2     125.78\n",
       "pl_iter_3     126.07\n",
       "pl_iter_4     126.60\n",
       "pl_iter_5     126.76\n",
       "pl_iter_6     126.64\n",
       "pl_iter_7     126.80\n",
       "pl_iter_8     126.87\n",
       "pl_iter_9     126.82\n",
       "pl_iter_10    126.92\n",
       "pl_iter_11    126.84\n",
       "pl_iter_12    126.91\n",
       "pl_iter_13    127.02\n",
       "pl_iter_14    127.00\n",
       "pl_iter_15    127.09\n",
       "pl_iter_16    126.89\n",
       "dtype: float64"
      ]
     },
     "execution_count": 5,
     "metadata": {},
     "output_type": "execute_result"
    }
   ],
   "source": [
    "Qmatrix[pl_cols].sum()"
   ]
  },
  {
   "cell_type": "markdown",
   "metadata": {},
   "source": [
    "#### Summary\n",
    "We did a few iterations of learning patterns. Up is a view of the transient process of changing PL. During the first iteration, the model made the maximum of its improvement. After 4 iterations, the result fluctuates at its maximum level with minor changes."
   ]
  },
  {
   "cell_type": "code",
   "execution_count": 6,
   "metadata": {},
   "outputs": [],
   "source": [
    "stat_cols = ['buy_count', 'hold_count', 'sell_count',\n",
    "                             'buy_profit', 'buy_loss', 'sell_profit', 'sell_loss',\n",
    "                             'buy_profit_count', 'buy_loss_count', 'sell_profit_count', 'sell_loss_count']\n",
    "iter_number = len(pl_cols)\n",
    "iter_columns = ['iter_' + str(el) for el in range(iter_number)]"
   ]
  },
  {
   "cell_type": "markdown",
   "metadata": {},
   "source": [
    "### Count of buys, holds and sells"
   ]
  },
  {
   "cell_type": "code",
   "execution_count": 7,
   "metadata": {},
   "outputs": [],
   "source": [
    "buys = pd.DataFrame(Qmatrix_init[('iter_0', 'buy_count')])\n",
    "holds = pd.DataFrame(Qmatrix_init[('iter_0', 'hold_count')])\n",
    "sells = pd.DataFrame(Qmatrix_init[('iter_0', 'sell_count')])\n",
    "for iterat in iter_columns[1:]:\n",
    "    buys = buys.join(Qmatrix_init[(iterat, 'buy_count')])\n",
    "    holds = holds.join(Qmatrix_init[(iterat, 'hold_count')])\n",
    "    sells = sells.join(Qmatrix_init[(iterat, 'sell_count')])\n",
    "    \n",
    "buys_1 = pd.DataFrame(Qmatrix_init[('iter_1', 'buy_count')])\n",
    "holds_1 = pd.DataFrame(Qmatrix_init[('iter_1', 'hold_count')])\n",
    "sells_1 = pd.DataFrame(Qmatrix_init[('iter_1', 'sell_count')])\n",
    "for iterat in iter_columns[2:]:\n",
    "    buys_1 = buys_1.join(Qmatrix_init[(iterat, 'buy_count')])\n",
    "    holds_1 = holds_1.join(Qmatrix_init[(iterat, 'hold_count')])\n",
    "    sells_1 = sells_1.join(Qmatrix_init[(iterat, 'sell_count')])"
   ]
  },
  {
   "cell_type": "code",
   "execution_count": 8,
   "metadata": {},
   "outputs": [],
   "source": [
    "total_count_of_actions = {'buys': buys.sum().sum(), 'holds': holds.sum().sum(), 'sells': sells.sum().sum()}\n",
    "total_count_of_actions_1 = {'buys': buys_1.sum().sum(), 'holds': holds_1.sum().sum(), 'sells': sells_1.sum().sum()}"
   ]
  },
  {
   "cell_type": "code",
   "execution_count": 9,
   "metadata": {
    "scrolled": false
   },
   "outputs": [
    {
     "data": {
      "image/png": "[encoded data removed]",
      "text/plain": [
       "<Figure size 432x288 with 1 Axes>"
      ]
     },
     "metadata": {
      "needs_background": "light"
     },
     "output_type": "display_data"
    }
   ],
   "source": [
    "plt.bar(*zip(*total_count_of_actions.items()))\n",
    "plt.bar(*zip(*total_count_of_actions_1.items()))\n",
    "plt.title('Total Count of Actions')\n",
    "plt.legend(['With 0 teration', 'Without 0 teration'])\n",
    "plt.show()\n",
    "\n",
    "# fig, (ax1, ax2) = plt.subplots(1, 2, figsize=(10,5))\n",
    "# ax1.bar(*zip(*total_count_of_actions.items()), width = 0.7)\n",
    "# ax2.bar(*zip(*total_count_of_actions_1.items()), width = 0.7)\n",
    "# fig.suptitle('Profit / loss count distributions for BUY and SELL')\n",
    "# plt.legend([ax1, ax2], ['With 0 teration', 'Without 0 teration'])\n",
    "# plt.show()"
   ]
  },
  {
   "cell_type": "markdown",
   "metadata": {},
   "source": [
    "#### Summary\n",
    "The number of BUYs exceeds the rest of the pattern states. This is not due to the fact that the first random action during model initialization was defined as BUY. It can also be noted that the system of penalties has worked successfully and the patterns do not \"sit out\" in the HOLD state."
   ]
  },
  {
   "cell_type": "markdown",
   "metadata": {},
   "source": [
    "### Profit / loss disribution"
   ]
  },
  {
   "cell_type": "code",
   "execution_count": 10,
   "metadata": {},
   "outputs": [],
   "source": [
    "buy_profit = pd.DataFrame(Qmatrix_init[('iter_0', 'buy_profit')])\n",
    "buy_loss = pd.DataFrame(Qmatrix_init[('iter_0', 'buy_loss')])\n",
    "sell_profit = pd.DataFrame(Qmatrix_init[('iter_0', 'sell_profit')])\n",
    "sell_loss = pd.DataFrame(Qmatrix_init[('iter_0', 'sell_loss')])\n",
    "for iterat in iter_columns[1:]:\n",
    "    buy_profit = buy_profit.join(Qmatrix_init[(iterat, 'buy_profit')])\n",
    "    buy_loss = buy_loss.join(Qmatrix_init[(iterat, 'buy_loss')])\n",
    "    sell_profit = sell_profit.join(Qmatrix_init[(iterat, 'sell_profit')])\n",
    "    sell_loss = sell_loss.join(Qmatrix_init[(iterat, 'sell_loss')])"
   ]
  },
  {
   "cell_type": "code",
   "execution_count": 11,
   "metadata": {},
   "outputs": [],
   "source": [
    "buy_pl_distribution = {'buy_profit': buy_profit.sum().sum(), 'buy_loss': abs(buy_loss.sum().sum())}\n",
    "sell_pl_distribution = {'sell_profit': sell_profit.sum().sum(), 'sell_loss': abs(sell_loss.sum().sum())}"
   ]
  },
  {
   "cell_type": "code",
   "execution_count": 12,
   "metadata": {},
   "outputs": [],
   "source": [
    "# fig, ax = plt.subplots()\n",
    "# ax.bar(*zip(*buy_pl_distribution.items()), width = 0.7, label='BUY')\n",
    "# ax.bar(*zip(*sell_pl_distribution.items()), width = 0.7, label='SELL')\n",
    "# plt.title('Profit / loss distributions for BUY and SELL')\n",
    "# plt.legend()\n",
    "# plt.show()"
   ]
  },
  {
   "cell_type": "markdown",
   "metadata": {},
   "source": [
    "### Count of profit / loss deals"
   ]
  },
  {
   "cell_type": "code",
   "execution_count": 13,
   "metadata": {},
   "outputs": [],
   "source": [
    "buy_profit_count = pd.DataFrame(Qmatrix_init[('iter_0', 'buy_profit_count')])\n",
    "buy_loss_count = pd.DataFrame(Qmatrix_init[('iter_0', 'buy_loss_count')])\n",
    "sell_profit_count = pd.DataFrame(Qmatrix_init[('iter_0', 'sell_profit_count')])\n",
    "sell_loss_count = pd.DataFrame(Qmatrix_init[('iter_0', 'sell_loss_count')])\n",
    "for iterat in iter_columns[1:]:\n",
    "    buy_profit_count = buy_profit_count.join(Qmatrix_init[(iterat, 'buy_profit_count')])\n",
    "    buy_loss_count = buy_loss_count.join(Qmatrix_init[(iterat, 'buy_loss_count')])\n",
    "    sell_profit_count = sell_profit_count.join(Qmatrix_init[(iterat, 'sell_profit_count')])\n",
    "    sell_loss_count = sell_loss_count.join(Qmatrix_init[(iterat, 'sell_loss_count')])"
   ]
  },
  {
   "cell_type": "code",
   "execution_count": 14,
   "metadata": {},
   "outputs": [],
   "source": [
    "buy_count_distribution = {'buy_profit': buy_profit_count.sum().sum(), 'buy_loss': abs(buy_loss_count.sum().sum())}\n",
    "sell_count_distribution = {'sell_profit': sell_profit_count.sum().sum(), 'sell_loss': abs(sell_loss_count.sum().sum())}"
   ]
  },
  {
   "cell_type": "code",
   "execution_count": 15,
   "metadata": {},
   "outputs": [
    {
     "data": {
      "image/png": "[encoded data removed]",
      "text/plain": [
       "<Figure size 432x288 with 1 Axes>"
      ]
     },
     "metadata": {
      "needs_background": "light"
     },
     "output_type": "display_data"
    }
   ],
   "source": [
    "fig, ax = plt.subplots()\n",
    "ax.bar(*zip(*buy_count_distribution.items()), width = 0.7, label='BUY')\n",
    "ax.bar(*zip(*sell_count_distribution.items()), width = 0.7, label='SELL')\n",
    "plt.title('Profit / loss count distributions for BUY and SELL')\n",
    "plt.legend()\n",
    "plt.show()"
   ]
  },
  {
   "cell_type": "markdown",
   "metadata": {},
   "source": [
    "#### Summary\n",
    "Patterns often choose the BUY state. This indicates an increase in the price of the instrument."
   ]
  },
  {
   "cell_type": "markdown",
   "metadata": {},
   "source": [
    "### Mean value for profit and loss"
   ]
  },
  {
   "cell_type": "code",
   "execution_count": 16,
   "metadata": {},
   "outputs": [],
   "source": [
    "# calculate profit deals count and loss deals count\n",
    "profit_deals_count = pd.DataFrame(Qmatrix_init[('iter_0', 'buy_profit_count')]).join(Qmatrix_init[('iter_0', 'sell_profit_count')])\n",
    "loss_deals_count = pd.DataFrame(Qmatrix_init[('iter_0', 'buy_loss_count')]).join(Qmatrix_init[('iter_0', 'sell_loss_count')])\n",
    "for iterat in iter_columns[1:]:\n",
    "    profit_deals_count = profit_deals_count.join(Qmatrix_init[(iterat, 'buy_profit_count')]).join(Qmatrix_init[(iterat, 'sell_profit_count')])\n",
    "    loss_deals_count = loss_deals_count.join(Qmatrix_init[(iterat, 'buy_loss_count')]).join(Qmatrix_init[(iterat, 'sell_loss_count')])"
   ]
  },
  {
   "cell_type": "code",
   "execution_count": 17,
   "metadata": {},
   "outputs": [
    {
     "name": "stdout",
     "output_type": "stream",
     "text": [
      "Mean_profit_deal: 0.013417326148717447. \n",
      "Mean_loss_deal: 0.014202853646881775.\n"
     ]
    }
   ],
   "source": [
    "profit = buy_pl_distribution['buy_profit'] + sell_pl_distribution['sell_profit']\n",
    "loss = buy_pl_distribution['buy_loss'] + sell_pl_distribution['sell_loss']\n",
    "\n",
    "mean_profit_deal = profit / profit_deals_count.sum().sum()\n",
    "mean_loss_deal = loss / loss_deals_count.sum().sum()\n",
    "\n",
    "print(f'Mean_profit_deal: {mean_profit_deal}. \\nMean_loss_deal: {mean_loss_deal}.')"
   ]
  },
  {
   "cell_type": "markdown",
   "metadata": {},
   "source": [
    "#### Summary\n",
    "There is practically no difference between the average of a profitable and a losing trade."
   ]
  },
  {
   "cell_type": "markdown",
   "metadata": {},
   "source": [
    "## Summary\n",
    "In this work, Reinforcement Learning techniques were applied to find sustainable patterns that could be profitable. The experiment was carried out with retention of 50 periods. Maximum PL equals 127 dollars. It is 17% more than by 50 periods model. The  model improves the quality of the patterns and better identifies the state that will bring the maximum benefit from iteration to iteration. The BUY condition prevails in deals. And the average value of a profitable trade is equal to a losing trade with value 1 cents."
   ]
  },
  {
   "cell_type": "code",
   "execution_count": null,
   "metadata": {},
   "outputs": [],
   "source": []
  }
 ],
 "metadata": {
  "kernelspec": {
   "display_name": "Python 3",
   "language": "python",
   "name": "python3"
  },
  "language_info": {
   "codemirror_mode": {
    "name": "ipython",
    "version": 3
   },
   "file_extension": ".py",
   "mimetype": "text/x-python",
   "name": "python",
   "nbconvert_exporter": "python",
   "pygments_lexer": "ipython3",
   "version": "3.8.3"
  }
 },
 "nbformat": 4,
 "nbformat_minor": 4
}
