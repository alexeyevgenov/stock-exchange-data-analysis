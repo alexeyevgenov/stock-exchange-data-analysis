{
 "cells": [
  {
   "cell_type": "markdown",
   "metadata": {},
   "source": [
    "# Introduction\n",
    "In this experiment, we limited the number of patterns by the number of their occurrence during the day. This number of occurrences is assumed to be 100. There are 14 patterns left out of 196. Another change is that the period for assessing price changes here is not a fixed value, but can take one of the values in the range from 5 through 10."
   ]
  },
  {
   "cell_type": "code",
   "execution_count": 1,
   "metadata": {},
   "outputs": [],
   "source": [
    "import pandas as pd\n",
    "import numpy as np\n",
    "from pickle import load\n",
    "import matplotlib.pyplot as plt\n",
    "import os \n",
    "os.chdir('../..')"
   ]
  },
  {
   "cell_type": "code",
   "execution_count": 2,
   "metadata": {
    "scrolled": false
   },
   "outputs": [
    {
     "data": {
      "text/html": [
       "<div>\n",
       "<style scoped>\n",
       "    .dataframe tbody tr th:only-of-type {\n",
       "        vertical-align: middle;\n",
       "    }\n",
       "\n",
       "    .dataframe tbody tr th {\n",
       "        vertical-align: top;\n",
       "    }\n",
       "\n",
       "    .dataframe thead th {\n",
       "        text-align: right;\n",
       "    }\n",
       "</style>\n",
       "<table border=\"1\" class=\"dataframe\">\n",
       "  <thead>\n",
       "    <tr style=\"text-align: right;\">\n",
       "      <th></th>\n",
       "      <th>date</th>\n",
       "      <th>original_index</th>\n",
       "      <th>prototype</th>\n",
       "      <th>prototype_label</th>\n",
       "      <th>diff</th>\n",
       "      <th>min_price</th>\n",
       "      <th>max_price</th>\n",
       "      <th>all_prices</th>\n",
       "      <th>code</th>\n",
       "      <th>similarity</th>\n",
       "      <th>...</th>\n",
       "      <th>(iter_9, hold_count)</th>\n",
       "      <th>(iter_9, sell_count)</th>\n",
       "      <th>(iter_9, buy_profit)</th>\n",
       "      <th>(iter_9, buy_loss)</th>\n",
       "      <th>(iter_9, sell_profit)</th>\n",
       "      <th>(iter_9, sell_loss)</th>\n",
       "      <th>(iter_9, buy_profit_count)</th>\n",
       "      <th>(iter_9, buy_loss_count)</th>\n",
       "      <th>(iter_9, sell_profit_count)</th>\n",
       "      <th>(iter_9, sell_loss_count)</th>\n",
       "    </tr>\n",
       "  </thead>\n",
       "  <tbody>\n",
       "    <tr>\n",
       "      <th>1531</th>\n",
       "      <td>2020-01-02 09:30:00.008</td>\n",
       "      <td>5</td>\n",
       "      <td>5</td>\n",
       "      <td>1</td>\n",
       "      <td>0.01</td>\n",
       "      <td>323.56</td>\n",
       "      <td>323.57</td>\n",
       "      <td>[323.57, 323.56, 323.57, 323.56, 323.57]</td>\n",
       "      <td>[1, 0, 1, 0, 1]</td>\n",
       "      <td>100.0</td>\n",
       "      <td>...</td>\n",
       "      <td>0</td>\n",
       "      <td>0</td>\n",
       "      <td>111.33</td>\n",
       "      <td>-55.26</td>\n",
       "      <td>0.00</td>\n",
       "      <td>0.00</td>\n",
       "      <td>8539</td>\n",
       "      <td>4221</td>\n",
       "      <td>0</td>\n",
       "      <td>0</td>\n",
       "    </tr>\n",
       "    <tr>\n",
       "      <th>20874</th>\n",
       "      <td>2020-01-02 09:30:00.090</td>\n",
       "      <td>6</td>\n",
       "      <td>6</td>\n",
       "      <td>1</td>\n",
       "      <td>0.02</td>\n",
       "      <td>323.56</td>\n",
       "      <td>323.58</td>\n",
       "      <td>[323.56, 323.57, 323.56, 323.57, 323.58]</td>\n",
       "      <td>[0, 1, 0, 1, 2]</td>\n",
       "      <td>100.0</td>\n",
       "      <td>...</td>\n",
       "      <td>0</td>\n",
       "      <td>0</td>\n",
       "      <td>20.26</td>\n",
       "      <td>-12.42</td>\n",
       "      <td>0.00</td>\n",
       "      <td>0.00</td>\n",
       "      <td>932</td>\n",
       "      <td>473</td>\n",
       "      <td>0</td>\n",
       "      <td>0</td>\n",
       "    </tr>\n",
       "    <tr>\n",
       "      <th>25063</th>\n",
       "      <td>2020-01-02 09:30:00.183</td>\n",
       "      <td>10</td>\n",
       "      <td>7</td>\n",
       "      <td>1</td>\n",
       "      <td>0.02</td>\n",
       "      <td>323.56</td>\n",
       "      <td>323.58</td>\n",
       "      <td>[323.58, 323.57, 323.58, 323.56, 323.57]</td>\n",
       "      <td>[2, 1, 2, 0, 1]</td>\n",
       "      <td>100.0</td>\n",
       "      <td>...</td>\n",
       "      <td>0</td>\n",
       "      <td>0</td>\n",
       "      <td>1.02</td>\n",
       "      <td>-0.63</td>\n",
       "      <td>0.00</td>\n",
       "      <td>0.00</td>\n",
       "      <td>53</td>\n",
       "      <td>34</td>\n",
       "      <td>0</td>\n",
       "      <td>0</td>\n",
       "    </tr>\n",
       "    <tr>\n",
       "      <th>28055</th>\n",
       "      <td>2020-01-02 09:30:00.267</td>\n",
       "      <td>13</td>\n",
       "      <td>8</td>\n",
       "      <td>1</td>\n",
       "      <td>0.01</td>\n",
       "      <td>323.56</td>\n",
       "      <td>323.57</td>\n",
       "      <td>[323.56, 323.57, 323.56, 323.57, 323.56]</td>\n",
       "      <td>[0, 1, 0, 1, 0]</td>\n",
       "      <td>100.0</td>\n",
       "      <td>...</td>\n",
       "      <td>0</td>\n",
       "      <td>13401</td>\n",
       "      <td>0.00</td>\n",
       "      <td>0.00</td>\n",
       "      <td>111.36</td>\n",
       "      <td>-64.52</td>\n",
       "      <td>0</td>\n",
       "      <td>0</td>\n",
       "      <td>8489</td>\n",
       "      <td>4326</td>\n",
       "    </tr>\n",
       "    <tr>\n",
       "      <th>38100</th>\n",
       "      <td>2020-01-02 09:30:00.321</td>\n",
       "      <td>26</td>\n",
       "      <td>16</td>\n",
       "      <td>1</td>\n",
       "      <td>0.02</td>\n",
       "      <td>323.56</td>\n",
       "      <td>323.58</td>\n",
       "      <td>[323.57, 323.58, 323.57, 323.56, 323.58]</td>\n",
       "      <td>[1, 2, 1, 0, 2]</td>\n",
       "      <td>100.0</td>\n",
       "      <td>...</td>\n",
       "      <td>0</td>\n",
       "      <td>0</td>\n",
       "      <td>1.25</td>\n",
       "      <td>-0.84</td>\n",
       "      <td>0.00</td>\n",
       "      <td>0.00</td>\n",
       "      <td>69</td>\n",
       "      <td>44</td>\n",
       "      <td>0</td>\n",
       "      <td>0</td>\n",
       "    </tr>\n",
       "  </tbody>\n",
       "</table>\n",
       "<p>5 rows × 151 columns</p>\n",
       "</div>"
      ],
      "text/plain": [
       "                         date  original_index  prototype  prototype_label  \\\n",
       "1531  2020-01-02 09:30:00.008               5          5                1   \n",
       "20874 2020-01-02 09:30:00.090               6          6                1   \n",
       "25063 2020-01-02 09:30:00.183              10          7                1   \n",
       "28055 2020-01-02 09:30:00.267              13          8                1   \n",
       "38100 2020-01-02 09:30:00.321              26         16                1   \n",
       "\n",
       "       diff  min_price  max_price                                all_prices  \\\n",
       "1531   0.01     323.56     323.57  [323.57, 323.56, 323.57, 323.56, 323.57]   \n",
       "20874  0.02     323.56     323.58  [323.56, 323.57, 323.56, 323.57, 323.58]   \n",
       "25063  0.02     323.56     323.58  [323.58, 323.57, 323.58, 323.56, 323.57]   \n",
       "28055  0.01     323.56     323.57  [323.56, 323.57, 323.56, 323.57, 323.56]   \n",
       "38100  0.02     323.56     323.58  [323.57, 323.58, 323.57, 323.56, 323.58]   \n",
       "\n",
       "                  code  similarity  ...  (iter_9, hold_count)  \\\n",
       "1531   [1, 0, 1, 0, 1]       100.0  ...                     0   \n",
       "20874  [0, 1, 0, 1, 2]       100.0  ...                     0   \n",
       "25063  [2, 1, 2, 0, 1]       100.0  ...                     0   \n",
       "28055  [0, 1, 0, 1, 0]       100.0  ...                     0   \n",
       "38100  [1, 2, 1, 0, 2]       100.0  ...                     0   \n",
       "\n",
       "       (iter_9, sell_count) (iter_9, buy_profit) (iter_9, buy_loss)  \\\n",
       "1531                      0               111.33             -55.26   \n",
       "20874                     0                20.26             -12.42   \n",
       "25063                     0                 1.02              -0.63   \n",
       "28055                 13401                 0.00               0.00   \n",
       "38100                     0                 1.25              -0.84   \n",
       "\n",
       "       (iter_9, sell_profit)  (iter_9, sell_loss)  (iter_9, buy_profit_count)  \\\n",
       "1531                    0.00                 0.00                        8539   \n",
       "20874                   0.00                 0.00                         932   \n",
       "25063                   0.00                 0.00                          53   \n",
       "28055                 111.36               -64.52                           0   \n",
       "38100                   0.00                 0.00                          69   \n",
       "\n",
       "       (iter_9, buy_loss_count)  (iter_9, sell_profit_count)  \\\n",
       "1531                       4221                            0   \n",
       "20874                       473                            0   \n",
       "25063                        34                            0   \n",
       "28055                         0                         8489   \n",
       "38100                        44                            0   \n",
       "\n",
       "       (iter_9, sell_loss_count)  \n",
       "1531                           0  \n",
       "20874                          0  \n",
       "25063                          0  \n",
       "28055                       4326  \n",
       "38100                          0  \n",
       "\n",
       "[5 rows x 151 columns]"
      ]
     },
     "execution_count": 2,
     "metadata": {},
     "output_type": "execute_result"
    }
   ],
   "source": [
    "similarity = 90\n",
    "height, width = 10, 5\n",
    "window = 10\n",
    "periods = range(5, 11)\n",
    "\n",
    "Qmatrix_init = load(open(f'src/SPY_patterns_scanner/output/{similarity}/{width}x{height}/Q_matrix_win{periods[0]}_{periods[-1]}_filter_count.pkl', 'rb'))\n",
    "count_cols = [col for col in Qmatrix_init.columns if 'count' in col] \n",
    "pl_cols = [col for col in Qmatrix_init.columns if 'pl' in col]\n",
    "\n",
    "buy_cols = [col for col in Qmatrix_init.columns if 'buy' in col]\n",
    "hold_cols = [col for col in Qmatrix_init.columns if 'hold' in col]\n",
    "sell_cols = [col for col in Qmatrix_init.columns if 'sell' in col]\n",
    "\n",
    "columns_to_show = (['date', 'prototype', 'code']+buy_cols+hold_cols+sell_cols+count_cols+pl_cols).sort()\n",
    "\n",
    "Qmatrix = Qmatrix_init   # [['date', 'prototype', 'code', 'buy', 'hold', 'sell']+pl_cols]\n",
    "Qmatrix.head()"
   ]
  },
  {
   "cell_type": "markdown",
   "metadata": {},
   "source": [
    "### Visualization of learning process. Profit maximization"
   ]
  },
  {
   "cell_type": "code",
   "execution_count": 3,
   "metadata": {},
   "outputs": [
    {
     "data": {
      "image/png": "[encoded data removed]",
      "text/plain": [
       "<Figure size 432x288 with 1 Axes>"
      ]
     },
     "metadata": {
      "needs_background": "light"
     },
     "output_type": "display_data"
    }
   ],
   "source": [
    "Qmatrix[pl_cols].sum().plot(rot=45);"
   ]
  },
  {
   "cell_type": "markdown",
   "metadata": {},
   "source": [
    "### Max PL"
   ]
  },
  {
   "cell_type": "code",
   "execution_count": 4,
   "metadata": {},
   "outputs": [
    {
     "data": {
      "text/plain": [
       "119.60999999999615"
      ]
     },
     "execution_count": 4,
     "metadata": {},
     "output_type": "execute_result"
    }
   ],
   "source": [
    "# max PL\n",
    "Qmatrix[pl_cols].sum().max()"
   ]
  },
  {
   "cell_type": "markdown",
   "metadata": {},
   "source": [
    "#### Summary\n",
    "Due to the high frequency of the patterns appearing, they learned quickly. Thus, it only took one iteration after the initialization process to reach a steady state. The maximum PL value is almost 120. That is 6% lower than the result of patterns without a filter by the number of occurrences and with a fixed price change period of 5 periods."
   ]
  },
  {
   "cell_type": "code",
   "execution_count": 5,
   "metadata": {},
   "outputs": [],
   "source": [
    "stat_cols = ['buy_count', 'hold_count', 'sell_count',\n",
    "                             'buy_profit', 'buy_loss', 'sell_profit', 'sell_loss',\n",
    "                             'buy_profit_count', 'buy_loss_count', 'sell_profit_count', 'sell_loss_count']\n",
    "iter_number = len(pl_cols)\n",
    "iter_columns = ['iter_' + str(el) for el in range(iter_number)]"
   ]
  },
  {
   "cell_type": "markdown",
   "metadata": {},
   "source": [
    "### Count of buys, holds and sells"
   ]
  },
  {
   "cell_type": "code",
   "execution_count": 6,
   "metadata": {},
   "outputs": [],
   "source": [
    "buys = pd.DataFrame(Qmatrix_init[('iter_1', 'buy_count')])\n",
    "holds = pd.DataFrame(Qmatrix_init[('iter_1', 'hold_count')])\n",
    "sells = pd.DataFrame(Qmatrix_init[('iter_1', 'sell_count')])\n",
    "for iterat in iter_columns[2:]:\n",
    "    buys = buys.join(Qmatrix_init[(iterat, 'buy_count')])\n",
    "    holds = holds.join(Qmatrix_init[(iterat, 'hold_count')])\n",
    "    sells = sells.join(Qmatrix_init[(iterat, 'sell_count')])"
   ]
  },
  {
   "cell_type": "code",
   "execution_count": 7,
   "metadata": {},
   "outputs": [],
   "source": [
    "total_count_of_actions = {'buys': buys.sum().sum(), 'holds': holds.sum().sum(), 'sells': sells.sum().sum()}"
   ]
  },
  {
   "cell_type": "code",
   "execution_count": 8,
   "metadata": {
    "scrolled": false
   },
   "outputs": [
    {
     "data": {
      "image/png": "[encoded data removed]",
      "text/plain": [
       "<Figure size 432x288 with 1 Axes>"
      ]
     },
     "metadata": {
      "needs_background": "light"
     },
     "output_type": "display_data"
    }
   ],
   "source": [
    "plt.bar(*zip(*total_count_of_actions.items()))\n",
    "plt.title('Total Count of Actions')\n",
    "plt.show()\n",
    "\n",
    "# fig, (ax1, ax2) = plt.subplots(1, 2, figsize=(10,5))\n",
    "# ax1.bar(*zip(*total_count_of_actions.items()), width = 0.7)\n",
    "# ax2.bar(*zip(*total_count_of_actions_1.items()), width = 0.7)\n",
    "# fig.suptitle('Profit / loss count distributions for BUY and SELL')\n",
    "# plt.legend([ax1, ax2], ['With 0 teration', 'Without 0 teration'])\n",
    "# plt.show()"
   ]
  },
  {
   "cell_type": "markdown",
   "metadata": {},
   "source": [
    "#### Summary\n",
    "The number of BUYs exceeds the rest of the pattern states. This is not due to the fact that the first random action during model initialization was defined as BUY. It can also be noted that the system of penalties has worked successfully and the patterns do not \"sit out\" in the HOLD state."
   ]
  },
  {
   "cell_type": "markdown",
   "metadata": {},
   "source": [
    "### Profit / loss disribution"
   ]
  },
  {
   "cell_type": "code",
   "execution_count": 9,
   "metadata": {},
   "outputs": [],
   "source": [
    "buy_profit = pd.DataFrame(Qmatrix_init[('iter_1', 'buy_profit')])\n",
    "buy_loss = pd.DataFrame(Qmatrix_init[('iter_1', 'buy_loss')])\n",
    "sell_profit = pd.DataFrame(Qmatrix_init[('iter_1', 'sell_profit')])\n",
    "sell_loss = pd.DataFrame(Qmatrix_init[('iter_1', 'sell_loss')])\n",
    "for iterat in iter_columns[2:]:\n",
    "    buy_profit = buy_profit.join(Qmatrix_init[(iterat, 'buy_profit')])\n",
    "    buy_loss = buy_loss.join(Qmatrix_init[(iterat, 'buy_loss')])\n",
    "    sell_profit = sell_profit.join(Qmatrix_init[(iterat, 'sell_profit')])\n",
    "    sell_loss = sell_loss.join(Qmatrix_init[(iterat, 'sell_loss')])"
   ]
  },
  {
   "cell_type": "code",
   "execution_count": 10,
   "metadata": {},
   "outputs": [],
   "source": [
    "buy_pl_distribution = {'buy_profit': buy_profit.sum().sum(), 'buy_loss': abs(buy_loss.sum().sum())}\n",
    "sell_pl_distribution = {'sell_profit': sell_profit.sum().sum(), 'sell_loss': abs(sell_loss.sum().sum())}"
   ]
  },
  {
   "cell_type": "code",
   "execution_count": 11,
   "metadata": {},
   "outputs": [],
   "source": [
    "# fig, ax = plt.subplots()\n",
    "# ax.bar(*zip(*buy_pl_distribution.items()), width = 0.7, label='BUY')\n",
    "# ax.bar(*zip(*sell_pl_distribution.items()), width = 0.7, label='SELL')\n",
    "# plt.title('Profit / loss distributions for BUY and SELL')\n",
    "# plt.legend()\n",
    "# plt.show()"
   ]
  },
  {
   "cell_type": "markdown",
   "metadata": {},
   "source": [
    "### Count of profit / loss deals"
   ]
  },
  {
   "cell_type": "code",
   "execution_count": 12,
   "metadata": {},
   "outputs": [],
   "source": [
    "buy_profit_count = pd.DataFrame(Qmatrix_init[('iter_1', 'buy_profit_count')])\n",
    "buy_loss_count = pd.DataFrame(Qmatrix_init[('iter_1', 'buy_loss_count')])\n",
    "sell_profit_count = pd.DataFrame(Qmatrix_init[('iter_1', 'sell_profit_count')])\n",
    "sell_loss_count = pd.DataFrame(Qmatrix_init[('iter_1', 'sell_loss_count')])\n",
    "for iterat in iter_columns[2:]:\n",
    "    buy_profit_count = buy_profit_count.join(Qmatrix_init[(iterat, 'buy_profit_count')])\n",
    "    buy_loss_count = buy_loss_count.join(Qmatrix_init[(iterat, 'buy_loss_count')])\n",
    "    sell_profit_count = sell_profit_count.join(Qmatrix_init[(iterat, 'sell_profit_count')])\n",
    "    sell_loss_count = sell_loss_count.join(Qmatrix_init[(iterat, 'sell_loss_count')])"
   ]
  },
  {
   "cell_type": "code",
   "execution_count": 13,
   "metadata": {},
   "outputs": [],
   "source": [
    "buy_count_distribution = {'buy_profit': buy_profit_count.sum().sum(), 'buy_loss': abs(buy_loss_count.sum().sum())}\n",
    "sell_count_distribution = {'sell_profit': sell_profit_count.sum().sum(), 'sell_loss': abs(sell_loss_count.sum().sum())}"
   ]
  },
  {
   "cell_type": "code",
   "execution_count": 14,
   "metadata": {},
   "outputs": [
    {
     "data": {
      "image/png": "[encoded data removed]",
      "text/plain": [
       "<Figure size 432x288 with 1 Axes>"
      ]
     },
     "metadata": {
      "needs_background": "light"
     },
     "output_type": "display_data"
    }
   ],
   "source": [
    "fig, ax = plt.subplots()\n",
    "ax.bar(*zip(*buy_count_distribution.items()), width = 0.7, label='BUY')\n",
    "ax.bar(*zip(*sell_count_distribution.items()), width = 0.7, label='SELL')\n",
    "plt.title('Profit / loss count distributions for BUY and SELL')\n",
    "plt.legend()\n",
    "plt.show()"
   ]
  },
  {
   "cell_type": "markdown",
   "metadata": {},
   "source": [
    "#### Summary\n",
    "Patterns often choose the BUY state. This indicates an increase in the price of the instrument."
   ]
  },
  {
   "cell_type": "markdown",
   "metadata": {},
   "source": [
    "### Mean value for profit and loss"
   ]
  },
  {
   "cell_type": "code",
   "execution_count": 15,
   "metadata": {},
   "outputs": [],
   "source": [
    "# calculate profit deals count and loss deals count\n",
    "profit_deals_count = pd.DataFrame(Qmatrix_init[('iter_1', 'buy_profit_count')]).join(Qmatrix_init[('iter_1', 'sell_profit_count')])\n",
    "loss_deals_count = pd.DataFrame(Qmatrix_init[('iter_1', 'buy_loss_count')]).join(Qmatrix_init[('iter_1', 'sell_loss_count')])\n",
    "for iterat in iter_columns[2:]:\n",
    "    profit_deals_count = profit_deals_count.join(Qmatrix_init[(iterat, 'buy_profit_count')]).join(Qmatrix_init[(iterat, 'sell_profit_count')])\n",
    "    loss_deals_count = loss_deals_count.join(Qmatrix_init[(iterat, 'buy_loss_count')]).join(Qmatrix_init[(iterat, 'sell_loss_count')])"
   ]
  },
  {
   "cell_type": "code",
   "execution_count": 16,
   "metadata": {},
   "outputs": [
    {
     "name": "stdout",
     "output_type": "stream",
     "text": [
      "Mean_profit_deal: 0.013981423868406234. \n",
      "Mean_loss_deal: 0.015129286511921448.\n"
     ]
    }
   ],
   "source": [
    "profit = buy_pl_distribution['buy_profit'] + sell_pl_distribution['sell_profit']\n",
    "loss = buy_pl_distribution['buy_loss'] + sell_pl_distribution['sell_loss']\n",
    "\n",
    "mean_profit_deal = profit / profit_deals_count.sum().sum()\n",
    "mean_loss_deal = loss / loss_deals_count.sum().sum()\n",
    "\n",
    "print(f'Mean_profit_deal: {mean_profit_deal}. \\nMean_loss_deal: {mean_loss_deal}.')"
   ]
  },
  {
   "cell_type": "markdown",
   "metadata": {},
   "source": [
    "#### Summary\n",
    "There is practically no difference between the average of a profitable and a losing trade."
   ]
  },
  {
   "cell_type": "markdown",
   "metadata": {},
   "source": [
    "## Summary\n",
    "This experiment was carried out in parallel with another. Their main difference is that in one experiment the filter of the appearance of patterns during the day was applied, while in the other it was not. Maximum PL is 3% higher for filtered patterns. We can say that 14 out of 196 patterns give 94% of the result compared to PL = 127 obtained with a fixed period of 5. "
   ]
  },
  {
   "cell_type": "code",
   "execution_count": null,
   "metadata": {},
   "outputs": [],
   "source": []
  }
 ],
 "metadata": {
  "kernelspec": {
   "display_name": "Python 3",
   "language": "python",
   "name": "python3"
  },
  "language_info": {
   "codemirror_mode": {
    "name": "ipython",
    "version": 3
   },
   "file_extension": ".py",
   "mimetype": "text/x-python",
   "name": "python",
   "nbconvert_exporter": "python",
   "pygments_lexer": "ipython3",
   "version": "3.8.3"
  }
 },
 "nbformat": 4,
 "nbformat_minor": 4
}
